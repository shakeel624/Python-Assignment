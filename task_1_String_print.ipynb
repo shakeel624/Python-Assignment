{
 "cells": [
  {
   "cell_type": "code",
   "execution_count": 1,
   "metadata": {},
   "outputs": [
    {
     "name": "stdout",
     "output_type": "stream",
     "text": [
      "\n",
      "\" String Poem \"\n",
      "\n",
      "Twinkle, twinkle, little star, \n",
      "\t How i Wonder What you are !\n",
      "\t\t Up above the world so high,\n",
      "\t\t Like a diamond in the sky, \n",
      "Twinkle, twinkle, little star, \n",
      "\t How i Wonder What you are !\n"
     ]
    }
   ],
   "source": [
    "# Task 1 String Print \n",
    "print('\\n\\\" String Poem \\\"\\n')\n",
    "Poem_string = \"Twinkle, twinkle, little star, \\n\\t How i Wonder What you are !\\n\\t\\t Up above the world so high,\\n\\t\\t Like a diamond in the sky, \\nTwinkle, twinkle, little star, \\n\\t How i Wonder What you are !\"\n",
    "print (Poem_string)"
   ]
  },
  {
   "cell_type": "code",
   "execution_count": null,
   "metadata": {},
   "outputs": [],
   "source": []
  }
 ],
 "metadata": {
  "kernelspec": {
   "display_name": "Python 3",
   "language": "python",
   "name": "python3"
  },
  "language_info": {
   "codemirror_mode": {
    "name": "ipython",
    "version": 3
   },
   "file_extension": ".py",
   "mimetype": "text/x-python",
   "name": "python",
   "nbconvert_exporter": "python",
   "pygments_lexer": "ipython3",
   "version": "3.7.4"
  }
 },
 "nbformat": 4,
 "nbformat_minor": 2
}
